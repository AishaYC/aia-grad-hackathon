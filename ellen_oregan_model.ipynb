{
 "cells": [
  {
   "attachments": {},
   "cell_type": "markdown",
   "metadata": {},
   "source": [
    "## The Ellen & O'Regan Model\n",
    "\n",
    "The Ellen & O’Regan model calls an area “gentrified” if the ratio of the neighborhood’s household income at the start of the decade, compared to the metro average household income, is less than 0.7—and there needs to be at least a 10 percentage-point increase in the ratio of neighborhood to metro average household income over the past decade.\n",
    "\n",
    "Datasets required:\n",
    "* Household income (approximate using yearly median earnings - assume proportionality)"
   ]
  },
  {
   "cell_type": "code",
   "execution_count": null,
   "metadata": {},
   "outputs": [],
   "source": [
    "import numpy as np\n",
    "import pandas as pd\n",
    "import scipy as sp\n",
    "\n",
    "print(\"success!\")"
   ]
  }
 ],
 "metadata": {
  "language_info": {
   "name": "python"
  },
  "orig_nbformat": 4
 },
 "nbformat": 4,
 "nbformat_minor": 2
}
