{
 "cells": [
  {
   "attachments": {},
   "cell_type": "markdown",
   "metadata": {},
   "source": [
    "## Data Preparation\n",
    "\n",
    "For the modelling step, we need to ensure that the data is in the same date range and has the same time increment."
   ]
  },
  {
   "cell_type": "code",
   "execution_count": 13,
   "metadata": {},
   "outputs": [
    {
     "name": "stdout",
     "output_type": "stream",
     "text": [
      "success!\n"
     ]
    }
   ],
   "source": [
    "# Install necessary dependencies\n",
    "\n",
    "import numpy as np\n",
    "import pandas as pd\n",
    "\n",
    "print(\"success!\")"
   ]
  },
  {
   "cell_type": "code",
   "execution_count": 14,
   "metadata": {},
   "outputs": [],
   "source": [
    "# Load datasets\n",
    "\n",
    "income_df = pd.read_excel(\"datasets/raw/yearly_median_earnings.xlsx\", index_col='Area')\n",
    "additional_homes_df = pd.read_excel(\"datasets/raw/net_additional_dwellings.xlsx\", index_col='Area')\n",
    "degrees_df = pd.read_excel(\"datasets/raw/degree_equivalent_qualifs.xlsx\", index_col='Area')\n",
    "house_price_df = pd.read_excel(\"datasets/raw/average_house_price.xlsx\", index_col='Area')"
   ]
  },
  {
   "cell_type": "code",
   "execution_count": 15,
   "metadata": {},
   "outputs": [
    {
     "name": "stdout",
     "output_type": "stream",
     "text": [
      "Int64Index([2002, 2003, 2004, 2005, 2006, 2007, 2008, 2009, 2010, 2011, 2012,\n",
      "            2013, 2014, 2015, 2016, 2017, 2018, 2019, 2020, 2021],\n",
      "           dtype='int64') \n",
      " Int64Index([2002, 2003, 2004, 2005, 2006, 2007, 2008, 2009, 2010, 2011, 2012,\n",
      "            2013, 2014, 2015, 2016, 2017, 2018, 2019, 2020, 2021, 2022],\n",
      "           dtype='int64') \n",
      " Int64Index([2004, 2005, 2006, 2007, 2008, 2009, 2010, 2011, 2012, 2013, 2014,\n",
      "            2015, 2016, 2017, 2018, 2019],\n",
      "           dtype='int64') \n",
      " DatetimeIndex(['1995-01-01', '1995-02-01', '1995-03-01', '1995-04-01',\n",
      "               '1995-05-01', '1995-06-01', '1995-07-01', '1995-08-01',\n",
      "               '1995-09-01', '1995-10-01',\n",
      "               ...\n",
      "               '2019-04-01', '2019-05-01', '2019-06-01', '2019-07-01',\n",
      "               '2019-08-01', '2019-09-01', '2019-10-01', '2019-11-01',\n",
      "               '2019-12-01', '2020-01-01'],\n",
      "              dtype='datetime64[ns]', length=301, freq=None)\n"
     ]
    }
   ],
   "source": [
    "print(income_df.columns, '\\n', additional_homes_df.columns, '\\n', degrees_df.columns, '\\n', house_price_df.columns)"
   ]
  },
  {
   "attachments": {},
   "cell_type": "markdown",
   "metadata": {},
   "source": [
    "The range we will use is 2004 - 2019.\n",
    "The rest of the preparation and cleaning is on Excel."
   ]
  },
  {
   "cell_type": "markdown",
   "metadata": {},
   "source": []
  }
 ],
 "metadata": {
  "kernelspec": {
   "display_name": "Python 3",
   "language": "python",
   "name": "python3"
  },
  "language_info": {
   "codemirror_mode": {
    "name": "ipython",
    "version": 3
   },
   "file_extension": ".py",
   "mimetype": "text/x-python",
   "name": "python",
   "nbconvert_exporter": "python",
   "pygments_lexer": "ipython3",
   "version": "3.11.0"
  },
  "orig_nbformat": 4
 },
 "nbformat": 4,
 "nbformat_minor": 2
}
